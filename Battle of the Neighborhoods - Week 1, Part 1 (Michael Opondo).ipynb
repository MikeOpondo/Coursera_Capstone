{
 "cells": [
  {
   "cell_type": "markdown",
   "metadata": {},
   "source": [
    "# Capstone Project - The Battle of Neighborhoods (Week 1)"
   ]
  },
  {
   "cell_type": "markdown",
   "metadata": {},
   "source": [
    "# Introduction/Business Problem section  "
   ]
  },
  {
   "cell_type": "markdown",
   "metadata": {},
   "source": [
    "This project was mant to assist people intending to or already exploring the best of facilities available in their neighborhoods using location data to make better and informed decisions on selecting the best neighborhoods in Toronto, Ontario (Canada). This is informed by the fact that such people are moving to and from different provinces in Canada and have the need to explore and research for great locations to settle their families, based on factors including best schools loations, hospitals, malls, amongst other amenities.\n",
    "\n",
    "The aim of this project was hence to develop an analysis of features for such kinds of migrations to Toronto, Ontario (Canada), creating a better awareness of the neighborhood amenities before moving."
   ]
  },
  {
   "cell_type": "markdown",
   "metadata": {},
   "source": [
    "# About Toronto & The Problem Statement"
   ]
  },
  {
   "cell_type": "markdown",
   "metadata": {},
   "source": [
    "Toronto remains a popular migration destination in Canada, located in the province of Ontario in Canada. This hence explains the diversity and multicultural nature of the location having attracted different groups from different walks of life. \n",
    "\n",
    "Making informed and better form prospective immigrants to the neighborhoods in Toronto based on an analysis of location data is hence the main problem statement of this project. \n",
    "\n",
    "The prime data source for this project would be the Foursquare.com's API considering it's database's inclusivity of millions of places providing its users the ability to perform indepth location searches and location sharing."
   ]
  },
  {
   "cell_type": "markdown",
   "metadata": {},
   "source": [
    "# Approach"
   ]
  },
  {
   "cell_type": "markdown",
   "metadata": {},
   "source": [
    "Toronto would be compared to New York, in this project, both os which are major cities. This would be done with an aim of finding the similarities of the two major cities while also discerning their major diffences, using data mined fro the Foursquare.com's API and perfoming a K-Means Clustering process.\n",
    "\n",
    "To achieve this, the following Pythin Modules would be used:\n",
    "\n",
    "     Beautiful Soup and Requests: For web scrapping, automation & handling HTTP requests;\n",
    "     \n",
    "     Pandas: For creating and manipulating dataframes;\n",
    "     \n",
    "     Matplotlib: ForCharts and data Plotting;\n",
    "     \n",
    "     Folium: For visualiing the neighborhoods cluster distribution of using interactive leaflet map;\n",
    "     \n",
    "     Scikit Learn: For importing k-means clustering;\n",
    "     \n",
    "     Geocoder: For retrieving Location Data;\n",
    "     \n",
    "     XML: To separate data from presentation and XML stores data in plain text format."
   ]
  },
  {
   "cell_type": "code",
   "execution_count": null,
   "metadata": {},
   "outputs": [],
   "source": []
  }
 ],
 "metadata": {
  "kernelspec": {
   "display_name": "Python 3",
   "language": "python",
   "name": "python3"
  },
  "language_info": {
   "codemirror_mode": {
    "name": "ipython",
    "version": 3
   },
   "file_extension": ".py",
   "mimetype": "text/x-python",
   "name": "python",
   "nbconvert_exporter": "python",
   "pygments_lexer": "ipython3",
   "version": "3.8.2"
  }
 },
 "nbformat": 4,
 "nbformat_minor": 4
}
