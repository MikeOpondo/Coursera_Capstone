{
 "cells": [
  {
   "cell_type": "markdown",
   "metadata": {},
   "source": [
    "# Capstone Project - The Battle of Neighborhoods (Week 1)"
   ]
  },
  {
   "cell_type": "markdown",
   "metadata": {},
   "source": [
    "# Introduction/Business Problem section  "
   ]
  },
  {
   "cell_type": "markdown",
   "metadata": {},
   "source": [
    "This project was manly to assist people intending to or already exploring the best of the two major cities between New York City and Toronto, based on facilities available in their neighborhoods, using location data to make better and informed decisions on selecting the best neighborhoods. This is informed by the fact that such people are moving to and from different locations and would like to make decisions on whther to settle in Toronto or New York and have the need to explore and research for great locations to settle their families, based on factors including best schools locations, hospitals, malls, amongst other amenities."
   ]
  },
  {
   "cell_type": "markdown",
   "metadata": {},
   "source": [
    "# Purpose of Project"
   ]
  },
  {
   "cell_type": "markdown",
   "metadata": {},
   "source": [
    "The aim of this project is hence to develop an analysis of main determining features features for migrations to one of the either major cities of Toronto, Ontario (Canada) or New York City (USA), creating a better awareness of the neighborhood amenities for the end user, before moving.\n",
    "\n",
    "Achieving this purpose necessitates the comparison of the neighborhoods of the two major cities and determine how similar or dissimilar they are to each other.\n",
    "\n",
    "What would be compared in the two major cities include but not limited to:\n",
    " 1. Connectivity to the airports;\n",
    " 2. Bus stands;\n",
    " 3. Proximity to the City center;\n",
    " 4. Markets and \n",
    " 5. Other daily needs things nearby."
   ]
  },
  {
   "cell_type": "markdown",
   "metadata": {},
   "source": [
    "# About The Locations: New York (Manhattan) vs Toronto (Scarborough)"
   ]
  },
  {
   "cell_type": "markdown",
   "metadata": {},
   "source": [
    "Toronto remains a popular migration destination in Canada, located in the province of Ontario in Canada. Having attracted different groups from different walks of life, Toronto is home to diversity and multicultural nature of population make up. The main Neighborhood of interest in Toronto is Scaraborough. \n",
    "\n",
    "New York City on the other hand also represents a diverse and multicultural make up and would be easily assumed to be similar to Toronto, but dissimilarities exist within the two major cities hence the need for this comparison. The main neighborhood of interest in New York is Manhattan. "
   ]
  },
  {
   "cell_type": "markdown",
   "metadata": {},
   "source": [
    "# Location Data Source: Foursquare API"
   ]
  },
  {
   "cell_type": "markdown",
   "metadata": {},
   "source": [
    "The crux of this project is based on the analysis of the boroughs and neighborhoods in both Toronto and New York Cities, to help properly segment the neighborhoods and explore them. We therefore essentially needed a dataset that contains such boroughs and neighborhoods that exist in each city as well as the the latitude and logitude coordinates of each neighborhood. \n",
    "\n",
    "The Foursquare API provides the prime data gathering source as it has a database of millions of places, especially their places API which provides the ability to perform location search, location sharing and details about a business."
   ]
  },
  {
   "cell_type": "markdown",
   "metadata": {},
   "source": [
    "# K-Means Clustering Approach"
   ]
  },
  {
   "cell_type": "markdown",
   "metadata": {},
   "source": [
    "There exisists different possible clustering models for clustering but for purposes of this project, we  intend to  present the model that is considered the one of the simplest model among them which is the K-Means Clustering Approach. Despite its simplicity, this approach is vastly used for clustering in many data science applications, especially useful if you need to quickly discover insights from unlabeled data"
   ]
  },
  {
   "cell_type": "markdown",
   "metadata": {},
   "source": [
    "# Python Libraries & Models used"
   ]
  },
  {
   "cell_type": "markdown",
   "metadata": {},
   "source": [
    "To achieve the ends of this project, the following Python Modules would be used:\n",
    " 1. Beautiful Soup and Requests: For web scrapping, automation & handling HTTP requests;\n",
    " 2. Pandas: For creating and manipulating dataframes;\n",
    " 3. Matplotlib: ForCharts and data Plotting;\n",
    " 4. Folium: For visualiing the neighborhoods cluster distribution of using interactive leaflet map;\n",
    " 5. Scikit Learn: For importing k-means clustering;\n",
    " 6. Geocoder: For retrieving Location Data;\n",
    " 7. XML: To separate data from presentation and XML stores data in plain text format."
   ]
  },
  {
   "cell_type": "code",
   "execution_count": null,
   "metadata": {},
   "outputs": [],
   "source": []
  }
 ],
 "metadata": {
  "kernelspec": {
   "display_name": "Python 3",
   "language": "python",
   "name": "python3"
  },
  "language_info": {
   "codemirror_mode": {
    "name": "ipython",
    "version": 3
   },
   "file_extension": ".py",
   "mimetype": "text/x-python",
   "name": "python",
   "nbconvert_exporter": "python",
   "pygments_lexer": "ipython3",
   "version": "3.8.2"
  }
 },
 "nbformat": 4,
 "nbformat_minor": 4
}
