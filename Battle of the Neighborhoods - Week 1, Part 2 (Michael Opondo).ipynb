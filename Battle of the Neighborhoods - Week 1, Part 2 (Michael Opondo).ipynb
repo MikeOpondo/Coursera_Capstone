{
 "cells": [
  {
   "cell_type": "markdown",
   "metadata": {},
   "source": [
    "# Capstone Project - The Battle of Neighborhoods (Week 1)"
   ]
  },
  {
   "cell_type": "markdown",
   "metadata": {},
   "source": [
    "# A description of the data"
   ]
  },
  {
   "cell_type": "markdown",
   "metadata": {},
   "source": [
    "The main data source available for this project is the Wikipedia page from the link: https://en.wikipedia.org/wiki/List_of_postal_codes_of_Canada:_M\n",
    "\n",
    "To achieve the ends of this project, there's the need to gain indepth data about the different neighborhoods of Toronto with the choice of data source being the Foursquare's API location data. This is based on the fact that Foursquare's API has an indepth data about locations which include, but not limited to pictures, name of venues, menus(where necessary) and locations.\n",
    "\n",
    "The output data obtained from the Foursquare API had venue information with specified distances of the longitude and latitude of the postcodes. The information obtained per venue as follows:\n",
    "\n",
    "1. Neighborhoods themselves;\n",
    "2. Neighborhood Latitudes;\n",
    "3. Neighborhood Longitudes;\n",
    "4. Venues and their names;\n",
    "5. Venue Latitudes;\n",
    "6. Venue Longitudes;\n",
    "7. Venue Categories."
   ]
  },
  {
   "cell_type": "code",
   "execution_count": null,
   "metadata": {},
   "outputs": [],
   "source": []
  }
 ],
 "metadata": {
  "kernelspec": {
   "display_name": "Python 3",
   "language": "python",
   "name": "python3"
  },
  "language_info": {
   "codemirror_mode": {
    "name": "ipython",
    "version": 3
   },
   "file_extension": ".py",
   "mimetype": "text/x-python",
   "name": "python",
   "nbconvert_exporter": "python",
   "pygments_lexer": "ipython3",
   "version": "3.8.2"
  }
 },
 "nbformat": 4,
 "nbformat_minor": 4
}
