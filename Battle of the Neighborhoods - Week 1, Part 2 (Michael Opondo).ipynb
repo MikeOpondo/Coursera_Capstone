{
 "cells": [
  {
   "cell_type": "markdown",
   "metadata": {},
   "source": [
    "# Capstone Project - The Battle of Neighborhoods (Week 1)"
   ]
  },
  {
   "cell_type": "markdown",
   "metadata": {},
   "source": [
    "# A description of the data - New York & Toronto"
   ]
  },
  {
   "cell_type": "markdown",
   "metadata": {},
   "source": [
    "The New York City has a total of 5 boroughs and 306 neighborhoods. In order to segement the neighborhoods and explore them, we will essentially need a dataset that contains the 5 boroughs and the neighborhoods that exist in each borough as well as the the latitude and logitude coordinates of each neighborhood. Luckily, this dataset exists for free on the web. Feel free to try to find this dataset on your own, but here is the link to the dataset: https://geo.nyu.edu/catalog/nyu_2451_34572\n"
   ]
  },
  {
   "cell_type": "markdown",
   "metadata": {},
   "source": [
    "Unlike in the case of New York, the neighborhood data for Scarborough, Toronto is not readily available on the internet, which presents an interesting fact about the field of data science that each project can be challenging in its unique way hence the need to learn to be agile and refine the skill to learn new libraries and tools quickly depending on the project.The main data source available for this project is the Wikipedia page from the link: https://en.wikipedia.org/wiki/List_of_postal_codes_of_Canada:_M"
   ]
  },
  {
   "cell_type": "markdown",
   "metadata": {},
   "source": [
    "# Use of the Foursquare API"
   ]
  },
  {
   "cell_type": "markdown",
   "metadata": {},
   "source": [
    "To achieve the ends of this project, there's the need to gain indepth data about the different neighborhoods of New York and Toronto cities with the choice of data source being the Foursquare's API location data. \n",
    "\n",
    "This is informed by the fact that Foursquare's API has an indepth data about locations which include, but not limited to pictures, name of venues, menus(where necessary) and locations.The output data obtained from the Foursquare API had venue information with specified distances of the longitude and latitude of the postcodes. The information obtained per venue as follows:\n",
    "\n",
    " 1. Neighborhoods themselves;\n",
    " 2. Neighborhood Latitudes;\n",
    " 3. Neighborhood Longitudes;\n",
    " 4. Venues and their names;\n",
    " 5. Venue Latitudes;\n",
    " 6. Venue Longitudes;\n",
    " 7. Venue Categories."
   ]
  },
  {
   "cell_type": "markdown",
   "metadata": {},
   "source": [
    "# Geographical Coordinates: New York & Toronto"
   ]
  },
  {
   "cell_type": "markdown",
   "metadata": {},
   "source": [
    "The geograpical coordinate of New York City are 40.7127281, -74.0060152 while the geograpical coordinate of Toronto city are 43.6534817, -79.3839347. "
   ]
  },
  {
   "cell_type": "markdown",
   "metadata": {},
   "source": [
    "# How the Data Will be used"
   ]
  },
  {
   "cell_type": "markdown",
   "metadata": {},
   "source": [
    " 1. We'll import the boroughs and neighborhood list of Toronto from Wikipedia and convert it to data frame using pandas package in python. \n",
    " \n",
    " 2. Another data set comprised of location data of neighborhood and boroughs will be imported in .csv format and then converted to data frame. \n",
    " \n",
    " 3. After Cleaning the data set, two tables will be merged to get the final Toronto neighborhood data set.\n",
    " 4. The Geo location data of New York will be imported in .json format. \n",
    " \n",
    " 5. Then the Neighborhoods, Boroughs and their corresponding latitude and longitude will be filtered out and converted to a data frame.\n",
    " \n",
    " 6. Having done this, with the output data of the neighborhood location data for each city, using Foursquare API, all venues data will be imported into two data frame for each neighborhood in Toronto and New York.\n",
    " \n",
    " 7. To keep the comparison of the two cities manageable, only a number of the most common venues shall be taken into account and the rest dropped.\n",
    " \n",
    " 8. Using the Sci-kit learn mnodule of Python, We'll then introduce the K-Means Clustering model, taking clusters of 3 for both cities, and the labelled neighborhood data was plotted in a map using folium package.\n",
    " \n",
    " 9. From there we'll then be able to make the necessary comparisons which form the basis of this project."
   ]
  },
  {
   "cell_type": "code",
   "execution_count": null,
   "metadata": {},
   "outputs": [],
   "source": []
  }
 ],
 "metadata": {
  "kernelspec": {
   "display_name": "Python 3",
   "language": "python",
   "name": "python3"
  },
  "language_info": {
   "codemirror_mode": {
    "name": "ipython",
    "version": 3
   },
   "file_extension": ".py",
   "mimetype": "text/x-python",
   "name": "python",
   "nbconvert_exporter": "python",
   "pygments_lexer": "ipython3",
   "version": "3.8.2"
  }
 },
 "nbformat": 4,
 "nbformat_minor": 4
}
